{
 "cells": [
  {
   "cell_type": "code",
   "execution_count": 1,
   "id": "85a13fa5",
   "metadata": {},
   "outputs": [],
   "source": [
    "# IMPORTING OF LIBRARIES"
   ]
  },
  {
   "cell_type": "code",
   "execution_count": 2,
   "id": "88879964",
   "metadata": {
    "scrolled": true
   },
   "outputs": [],
   "source": [
    "import codecs\n",
    "import pandas as pd\n",
    "import numpy as np\n",
    "import seaborn as sns\n",
    "from matplotlib import pyplot as plt\n",
    "\n",
    "import sklearn\n",
    "from sklearn.cluster import KMeans\n",
    "from mpl_toolkits.mplot3d import Axes3D\n",
    "from sklearn.preprocessing import scale\n",
    "\n",
    "import sklearn.metrics as sm\n",
    "from sklearn.metrics import confusion_matrix,classification_report"
   ]
  },
  {
   "cell_type": "markdown",
   "id": "fc1d4570",
   "metadata": {},
   "source": [
    "K-Means Clustering Method\n",
    "It is a method to classify the identical type of data into one group. This algorithm method is important to get a knowledge regarding the data structure and to generate the related analyses. Following are the steps been incorporated while studying IKEA data set:\n",
    "Task No. 1\n",
    "We have to determine a new location to open a new IKEA store.\n",
    "Step 1:\n",
    "1 would import relevant libraries\n"
   ]
  },
  {
   "cell_type": "code",
   "execution_count": 3,
   "id": "10af0fbb",
   "metadata": {},
   "outputs": [],
   "source": [
    "# EXPLORING THE IKEA DATA SET"
   ]
  },
  {
   "cell_type": "code",
   "execution_count": 4,
   "id": "c1c3733d",
   "metadata": {},
   "outputs": [],
   "source": [
    "doc = codecs.open('ikea_kommun_data.txt', 'rU', 'ISO-8859-1')\n",
    "train_df= pd.read_csv(doc,sep='\\t')"
   ]
  },
  {
   "cell_type": "code",
   "execution_count": 5,
   "id": "6f11574a",
   "metadata": {},
   "outputs": [
    {
     "data": {
      "text/html": [
       "<div>\n",
       "<style scoped>\n",
       "    .dataframe tbody tr th:only-of-type {\n",
       "        vertical-align: middle;\n",
       "    }\n",
       "\n",
       "    .dataframe tbody tr th {\n",
       "        vertical-align: top;\n",
       "    }\n",
       "\n",
       "    .dataframe thead th {\n",
       "        text-align: right;\n",
       "    }\n",
       "</style>\n",
       "<table border=\"1\" class=\"dataframe\">\n",
       "  <thead>\n",
       "    <tr style=\"text-align: right;\">\n",
       "      <th></th>\n",
       "      <th>Kommun_code</th>\n",
       "      <th>Year</th>\n",
       "      <th>Kommun_name</th>\n",
       "      <th>Revenue</th>\n",
       "      <th>Employee</th>\n",
       "      <th>Population</th>\n",
       "      <th>Population_University</th>\n",
       "      <th>Percent_University</th>\n",
       "      <th>Productivity</th>\n",
       "      <th>SalesIndex</th>\n",
       "      <th>Infrast</th>\n",
       "      <th>Border</th>\n",
       "    </tr>\n",
       "  </thead>\n",
       "  <tbody>\n",
       "    <tr>\n",
       "      <th>0</th>\n",
       "      <td>2583</td>\n",
       "      <td>2010</td>\n",
       "      <td>Haparanda</td>\n",
       "      <td>1078</td>\n",
       "      <td>276</td>\n",
       "      <td>10059</td>\n",
       "      <td>719</td>\n",
       "      <td>0.071478</td>\n",
       "      <td>195.74174</td>\n",
       "      <td>111.075774</td>\n",
       "      <td>0</td>\n",
       "      <td>1</td>\n",
       "    </tr>\n",
       "    <tr>\n",
       "      <th>1</th>\n",
       "      <td>880</td>\n",
       "      <td>2010</td>\n",
       "      <td>Kalmar</td>\n",
       "      <td>3790</td>\n",
       "      <td>1621</td>\n",
       "      <td>62815</td>\n",
       "      <td>8716</td>\n",
       "      <td>0.138757</td>\n",
       "      <td>117.17365</td>\n",
       "      <td>390.516869</td>\n",
       "      <td>0</td>\n",
       "      <td>0</td>\n",
       "    </tr>\n",
       "    <tr>\n",
       "      <th>2</th>\n",
       "      <td>1780</td>\n",
       "      <td>2010</td>\n",
       "      <td>Karlstad</td>\n",
       "      <td>4560</td>\n",
       "      <td>1910</td>\n",
       "      <td>85753</td>\n",
       "      <td>13308</td>\n",
       "      <td>0.155190</td>\n",
       "      <td>119.64794</td>\n",
       "      <td>469.856708</td>\n",
       "      <td>0</td>\n",
       "      <td>0</td>\n",
       "    </tr>\n",
       "    <tr>\n",
       "      <th>3</th>\n",
       "      <td>114</td>\n",
       "      <td>2010</td>\n",
       "      <td>Upplands Väsby</td>\n",
       "      <td>1366</td>\n",
       "      <td>708</td>\n",
       "      <td>39289</td>\n",
       "      <td>4419</td>\n",
       "      <td>0.112474</td>\n",
       "      <td>96.69215</td>\n",
       "      <td>140.750935</td>\n",
       "      <td>0</td>\n",
       "      <td>0</td>\n",
       "    </tr>\n",
       "    <tr>\n",
       "      <th>4</th>\n",
       "      <td>115</td>\n",
       "      <td>2010</td>\n",
       "      <td>Vallentuna</td>\n",
       "      <td>171</td>\n",
       "      <td>99</td>\n",
       "      <td>30114</td>\n",
       "      <td>3843</td>\n",
       "      <td>0.127615</td>\n",
       "      <td>86.56347</td>\n",
       "      <td>17.619627</td>\n",
       "      <td>0</td>\n",
       "      <td>0</td>\n",
       "    </tr>\n",
       "    <tr>\n",
       "      <th>5</th>\n",
       "      <td>117</td>\n",
       "      <td>2010</td>\n",
       "      <td>Österåker</td>\n",
       "      <td>563</td>\n",
       "      <td>314</td>\n",
       "      <td>39521</td>\n",
       "      <td>5011</td>\n",
       "      <td>0.126793</td>\n",
       "      <td>89.85712</td>\n",
       "      <td>58.010817</td>\n",
       "      <td>0</td>\n",
       "      <td>0</td>\n",
       "    </tr>\n",
       "    <tr>\n",
       "      <th>6</th>\n",
       "      <td>120</td>\n",
       "      <td>2010</td>\n",
       "      <td>Värmdö</td>\n",
       "      <td>920</td>\n",
       "      <td>454</td>\n",
       "      <td>38301</td>\n",
       "      <td>4720</td>\n",
       "      <td>0.123234</td>\n",
       "      <td>101.55604</td>\n",
       "      <td>94.795652</td>\n",
       "      <td>0</td>\n",
       "      <td>0</td>\n",
       "    </tr>\n",
       "    <tr>\n",
       "      <th>7</th>\n",
       "      <td>123</td>\n",
       "      <td>2010</td>\n",
       "      <td>Järfälla</td>\n",
       "      <td>5119</td>\n",
       "      <td>2001</td>\n",
       "      <td>66211</td>\n",
       "      <td>9009</td>\n",
       "      <td>0.136065</td>\n",
       "      <td>128.20702</td>\n",
       "      <td>527.455371</td>\n",
       "      <td>0</td>\n",
       "      <td>0</td>\n",
       "    </tr>\n",
       "    <tr>\n",
       "      <th>8</th>\n",
       "      <td>125</td>\n",
       "      <td>2010</td>\n",
       "      <td>Ekerö</td>\n",
       "      <td>144</td>\n",
       "      <td>116</td>\n",
       "      <td>25410</td>\n",
       "      <td>3893</td>\n",
       "      <td>0.153207</td>\n",
       "      <td>62.21259</td>\n",
       "      <td>14.837580</td>\n",
       "      <td>0</td>\n",
       "      <td>0</td>\n",
       "    </tr>\n",
       "    <tr>\n",
       "      <th>9</th>\n",
       "      <td>126</td>\n",
       "      <td>2010</td>\n",
       "      <td>Huddinge</td>\n",
       "      <td>7153</td>\n",
       "      <td>2374</td>\n",
       "      <td>97453</td>\n",
       "      <td>12795</td>\n",
       "      <td>0.131294</td>\n",
       "      <td>151.00150</td>\n",
       "      <td>737.036192</td>\n",
       "      <td>0</td>\n",
       "      <td>0</td>\n",
       "    </tr>\n",
       "  </tbody>\n",
       "</table>\n",
       "</div>"
      ],
      "text/plain": [
       "   Kommun_code  Year     Kommun_name  Revenue  Employee  Population  \\\n",
       "0         2583  2010       Haparanda     1078       276       10059   \n",
       "1          880  2010          Kalmar     3790      1621       62815   \n",
       "2         1780  2010        Karlstad     4560      1910       85753   \n",
       "3          114  2010  Upplands Väsby     1366       708       39289   \n",
       "4          115  2010      Vallentuna      171        99       30114   \n",
       "5          117  2010       Österåker      563       314       39521   \n",
       "6          120  2010          Värmdö      920       454       38301   \n",
       "7          123  2010        Järfälla     5119      2001       66211   \n",
       "8          125  2010           Ekerö      144       116       25410   \n",
       "9          126  2010        Huddinge     7153      2374       97453   \n",
       "\n",
       "   Population_University  Percent_University  Productivity  SalesIndex  \\\n",
       "0                    719            0.071478     195.74174  111.075774   \n",
       "1                   8716            0.138757     117.17365  390.516869   \n",
       "2                  13308            0.155190     119.64794  469.856708   \n",
       "3                   4419            0.112474      96.69215  140.750935   \n",
       "4                   3843            0.127615      86.56347   17.619627   \n",
       "5                   5011            0.126793      89.85712   58.010817   \n",
       "6                   4720            0.123234     101.55604   94.795652   \n",
       "7                   9009            0.136065     128.20702  527.455371   \n",
       "8                   3893            0.153207      62.21259   14.837580   \n",
       "9                  12795            0.131294     151.00150  737.036192   \n",
       "\n",
       "   Infrast  Border  \n",
       "0        0       1  \n",
       "1        0       0  \n",
       "2        0       0  \n",
       "3        0       0  \n",
       "4        0       0  \n",
       "5        0       0  \n",
       "6        0       0  \n",
       "7        0       0  \n",
       "8        0       0  \n",
       "9        0       0  "
      ]
     },
     "execution_count": 5,
     "metadata": {},
     "output_type": "execute_result"
    }
   ],
   "source": [
    "train_df.head(10)"
   ]
  },
  {
   "cell_type": "markdown",
   "id": "510412cf",
   "metadata": {},
   "source": [
    "Step 2:\n",
    "Now, 1 would explore the data\n"
   ]
  },
  {
   "cell_type": "code",
   "execution_count": 6,
   "id": "22d5e1ff",
   "metadata": {},
   "outputs": [
    {
     "name": "stdout",
     "output_type": "stream",
     "text": [
      "<class 'pandas.core.frame.DataFrame'>\n",
      "RangeIndex: 207 entries, 0 to 206\n",
      "Data columns (total 12 columns):\n",
      " #   Column                 Non-Null Count  Dtype  \n",
      "---  ------                 --------------  -----  \n",
      " 0   Kommun_code            207 non-null    int64  \n",
      " 1   Year                   207 non-null    int64  \n",
      " 2   Kommun_name            207 non-null    object \n",
      " 3   Revenue                207 non-null    int64  \n",
      " 4   Employee               207 non-null    int64  \n",
      " 5   Population             207 non-null    int64  \n",
      " 6   Population_University  207 non-null    int64  \n",
      " 7   Percent_University     207 non-null    float64\n",
      " 8   Productivity           207 non-null    float64\n",
      " 9   SalesIndex             207 non-null    float64\n",
      " 10  Infrast                207 non-null    int64  \n",
      " 11  Border                 207 non-null    int64  \n",
      "dtypes: float64(3), int64(8), object(1)\n",
      "memory usage: 19.5+ KB\n"
     ]
    }
   ],
   "source": [
    "train_df.info()"
   ]
  },
  {
   "cell_type": "markdown",
   "id": "66f045b1",
   "metadata": {},
   "source": [
    "Exploring the data"
   ]
  },
  {
   "cell_type": "code",
   "execution_count": 7,
   "id": "0c2dffa4",
   "metadata": {},
   "outputs": [
    {
     "data": {
      "text/html": [
       "<div>\n",
       "<style scoped>\n",
       "    .dataframe tbody tr th:only-of-type {\n",
       "        vertical-align: middle;\n",
       "    }\n",
       "\n",
       "    .dataframe tbody tr th {\n",
       "        vertical-align: top;\n",
       "    }\n",
       "\n",
       "    .dataframe thead th {\n",
       "        text-align: right;\n",
       "    }\n",
       "</style>\n",
       "<table border=\"1\" class=\"dataframe\">\n",
       "  <thead>\n",
       "    <tr style=\"text-align: right;\">\n",
       "      <th></th>\n",
       "      <th>Total</th>\n",
       "      <th>%</th>\n",
       "    </tr>\n",
       "  </thead>\n",
       "  <tbody>\n",
       "    <tr>\n",
       "      <th>Kommun_code</th>\n",
       "      <td>0</td>\n",
       "      <td>0.0</td>\n",
       "    </tr>\n",
       "    <tr>\n",
       "      <th>Year</th>\n",
       "      <td>0</td>\n",
       "      <td>0.0</td>\n",
       "    </tr>\n",
       "    <tr>\n",
       "      <th>Kommun_name</th>\n",
       "      <td>0</td>\n",
       "      <td>0.0</td>\n",
       "    </tr>\n",
       "    <tr>\n",
       "      <th>Revenue</th>\n",
       "      <td>0</td>\n",
       "      <td>0.0</td>\n",
       "    </tr>\n",
       "    <tr>\n",
       "      <th>Employee</th>\n",
       "      <td>0</td>\n",
       "      <td>0.0</td>\n",
       "    </tr>\n",
       "  </tbody>\n",
       "</table>\n",
       "</div>"
      ],
      "text/plain": [
       "             Total    %\n",
       "Kommun_code      0  0.0\n",
       "Year             0  0.0\n",
       "Kommun_name      0  0.0\n",
       "Revenue          0  0.0\n",
       "Employee         0  0.0"
      ]
     },
     "execution_count": 7,
     "metadata": {},
     "output_type": "execute_result"
    }
   ],
   "source": [
    "# Checking for missing values\n",
    "total = train_df.isnull().sum().sort_values(ascending=False)\n",
    "percent_1 = train_df.isnull().sum()/train_df.isnull().count()*100\n",
    "percent_2 = (round(percent_1, 1)).sort_values(ascending=False)\n",
    "missing_data = pd.concat([total, percent_2], axis=1, keys=['Total', '%'])\n",
    "missing_data.head(5)"
   ]
  },
  {
   "cell_type": "code",
   "execution_count": null,
   "id": "31701c7e",
   "metadata": {},
   "outputs": [],
   "source": [
    "Step 3:\n",
    "In the third step, I will check the data for any missing value\n"
   ]
  },
  {
   "cell_type": "code",
   "execution_count": 8,
   "id": "7f8ddf07",
   "metadata": {},
   "outputs": [
    {
     "data": {
      "text/plain": [
       "array(['Kommun_code', 'Year', 'Kommun_name', 'Revenue', 'Employee',\n",
       "       'Population', 'Population_University', 'Percent_University',\n",
       "       'Productivity', 'SalesIndex', 'Infrast', 'Border'], dtype=object)"
      ]
     },
     "execution_count": 8,
     "metadata": {},
     "output_type": "execute_result"
    }
   ],
   "source": [
    "train_df.columns.values"
   ]
  },
  {
   "cell_type": "code",
   "execution_count": 9,
   "id": "898b00a5",
   "metadata": {},
   "outputs": [],
   "source": [
    "ds = train_df.copy()"
   ]
  },
  {
   "cell_type": "code",
   "execution_count": 10,
   "id": "f00895ab",
   "metadata": {},
   "outputs": [
    {
     "data": {
      "text/html": [
       "<div>\n",
       "<style scoped>\n",
       "    .dataframe tbody tr th:only-of-type {\n",
       "        vertical-align: middle;\n",
       "    }\n",
       "\n",
       "    .dataframe tbody tr th {\n",
       "        vertical-align: top;\n",
       "    }\n",
       "\n",
       "    .dataframe thead th {\n",
       "        text-align: right;\n",
       "    }\n",
       "</style>\n",
       "<table border=\"1\" class=\"dataframe\">\n",
       "  <thead>\n",
       "    <tr style=\"text-align: right;\">\n",
       "      <th></th>\n",
       "      <th>Kommun_code</th>\n",
       "      <th>Year</th>\n",
       "      <th>Kommun_name</th>\n",
       "      <th>Revenue</th>\n",
       "      <th>Employee</th>\n",
       "      <th>Population</th>\n",
       "      <th>Population_University</th>\n",
       "      <th>Percent_University</th>\n",
       "      <th>Productivity</th>\n",
       "      <th>SalesIndex</th>\n",
       "      <th>Infrast</th>\n",
       "      <th>Border</th>\n",
       "    </tr>\n",
       "  </thead>\n",
       "  <tbody>\n",
       "    <tr>\n",
       "      <th>0</th>\n",
       "      <td>2583</td>\n",
       "      <td>2010</td>\n",
       "      <td>Haparanda</td>\n",
       "      <td>1078</td>\n",
       "      <td>276</td>\n",
       "      <td>10059</td>\n",
       "      <td>719</td>\n",
       "      <td>0.071478</td>\n",
       "      <td>195.74174</td>\n",
       "      <td>111.075774</td>\n",
       "      <td>0</td>\n",
       "      <td>1</td>\n",
       "    </tr>\n",
       "    <tr>\n",
       "      <th>1</th>\n",
       "      <td>880</td>\n",
       "      <td>2010</td>\n",
       "      <td>Kalmar</td>\n",
       "      <td>3790</td>\n",
       "      <td>1621</td>\n",
       "      <td>62815</td>\n",
       "      <td>8716</td>\n",
       "      <td>0.138757</td>\n",
       "      <td>117.17365</td>\n",
       "      <td>390.516869</td>\n",
       "      <td>0</td>\n",
       "      <td>0</td>\n",
       "    </tr>\n",
       "    <tr>\n",
       "      <th>2</th>\n",
       "      <td>1780</td>\n",
       "      <td>2010</td>\n",
       "      <td>Karlstad</td>\n",
       "      <td>4560</td>\n",
       "      <td>1910</td>\n",
       "      <td>85753</td>\n",
       "      <td>13308</td>\n",
       "      <td>0.155190</td>\n",
       "      <td>119.64794</td>\n",
       "      <td>469.856708</td>\n",
       "      <td>0</td>\n",
       "      <td>0</td>\n",
       "    </tr>\n",
       "    <tr>\n",
       "      <th>3</th>\n",
       "      <td>114</td>\n",
       "      <td>2010</td>\n",
       "      <td>Upplands Väsby</td>\n",
       "      <td>1366</td>\n",
       "      <td>708</td>\n",
       "      <td>39289</td>\n",
       "      <td>4419</td>\n",
       "      <td>0.112474</td>\n",
       "      <td>96.69215</td>\n",
       "      <td>140.750935</td>\n",
       "      <td>0</td>\n",
       "      <td>0</td>\n",
       "    </tr>\n",
       "    <tr>\n",
       "      <th>4</th>\n",
       "      <td>115</td>\n",
       "      <td>2010</td>\n",
       "      <td>Vallentuna</td>\n",
       "      <td>171</td>\n",
       "      <td>99</td>\n",
       "      <td>30114</td>\n",
       "      <td>3843</td>\n",
       "      <td>0.127615</td>\n",
       "      <td>86.56347</td>\n",
       "      <td>17.619627</td>\n",
       "      <td>0</td>\n",
       "      <td>0</td>\n",
       "    </tr>\n",
       "  </tbody>\n",
       "</table>\n",
       "</div>"
      ],
      "text/plain": [
       "   Kommun_code  Year     Kommun_name  Revenue  Employee  Population  \\\n",
       "0         2583  2010       Haparanda     1078       276       10059   \n",
       "1          880  2010          Kalmar     3790      1621       62815   \n",
       "2         1780  2010        Karlstad     4560      1910       85753   \n",
       "3          114  2010  Upplands Väsby     1366       708       39289   \n",
       "4          115  2010      Vallentuna      171        99       30114   \n",
       "\n",
       "   Population_University  Percent_University  Productivity  SalesIndex  \\\n",
       "0                    719            0.071478     195.74174  111.075774   \n",
       "1                   8716            0.138757     117.17365  390.516869   \n",
       "2                  13308            0.155190     119.64794  469.856708   \n",
       "3                   4419            0.112474      96.69215  140.750935   \n",
       "4                   3843            0.127615      86.56347   17.619627   \n",
       "\n",
       "   Infrast  Border  \n",
       "0        0       1  \n",
       "1        0       0  \n",
       "2        0       0  \n",
       "3        0       0  \n",
       "4        0       0  "
      ]
     },
     "execution_count": 10,
     "metadata": {},
     "output_type": "execute_result"
    }
   ],
   "source": [
    "ds.head(5)"
   ]
  },
  {
   "cell_type": "code",
   "execution_count": 11,
   "id": "cffa4939",
   "metadata": {},
   "outputs": [
    {
     "data": {
      "text/html": [
       "<div>\n",
       "<style scoped>\n",
       "    .dataframe tbody tr th:only-of-type {\n",
       "        vertical-align: middle;\n",
       "    }\n",
       "\n",
       "    .dataframe tbody tr th {\n",
       "        vertical-align: top;\n",
       "    }\n",
       "\n",
       "    .dataframe thead th {\n",
       "        text-align: right;\n",
       "    }\n",
       "</style>\n",
       "<table border=\"1\" class=\"dataframe\">\n",
       "  <thead>\n",
       "    <tr style=\"text-align: right;\">\n",
       "      <th></th>\n",
       "      <th>Revenue</th>\n",
       "      <th>Employee</th>\n",
       "      <th>Population</th>\n",
       "      <th>Population_University</th>\n",
       "      <th>Percent_University</th>\n",
       "      <th>Productivity</th>\n",
       "      <th>SalesIndex</th>\n",
       "      <th>Infrast</th>\n",
       "      <th>Border</th>\n",
       "    </tr>\n",
       "  </thead>\n",
       "  <tbody>\n",
       "    <tr>\n",
       "      <th>0</th>\n",
       "      <td>1078</td>\n",
       "      <td>276</td>\n",
       "      <td>10059</td>\n",
       "      <td>719</td>\n",
       "      <td>0.071478</td>\n",
       "      <td>195.74174</td>\n",
       "      <td>111.075774</td>\n",
       "      <td>0</td>\n",
       "      <td>1</td>\n",
       "    </tr>\n",
       "    <tr>\n",
       "      <th>1</th>\n",
       "      <td>3790</td>\n",
       "      <td>1621</td>\n",
       "      <td>62815</td>\n",
       "      <td>8716</td>\n",
       "      <td>0.138757</td>\n",
       "      <td>117.17365</td>\n",
       "      <td>390.516869</td>\n",
       "      <td>0</td>\n",
       "      <td>0</td>\n",
       "    </tr>\n",
       "    <tr>\n",
       "      <th>2</th>\n",
       "      <td>4560</td>\n",
       "      <td>1910</td>\n",
       "      <td>85753</td>\n",
       "      <td>13308</td>\n",
       "      <td>0.155190</td>\n",
       "      <td>119.64794</td>\n",
       "      <td>469.856708</td>\n",
       "      <td>0</td>\n",
       "      <td>0</td>\n",
       "    </tr>\n",
       "    <tr>\n",
       "      <th>3</th>\n",
       "      <td>1366</td>\n",
       "      <td>708</td>\n",
       "      <td>39289</td>\n",
       "      <td>4419</td>\n",
       "      <td>0.112474</td>\n",
       "      <td>96.69215</td>\n",
       "      <td>140.750935</td>\n",
       "      <td>0</td>\n",
       "      <td>0</td>\n",
       "    </tr>\n",
       "    <tr>\n",
       "      <th>4</th>\n",
       "      <td>171</td>\n",
       "      <td>99</td>\n",
       "      <td>30114</td>\n",
       "      <td>3843</td>\n",
       "      <td>0.127615</td>\n",
       "      <td>86.56347</td>\n",
       "      <td>17.619627</td>\n",
       "      <td>0</td>\n",
       "      <td>0</td>\n",
       "    </tr>\n",
       "  </tbody>\n",
       "</table>\n",
       "</div>"
      ],
      "text/plain": [
       "   Revenue  Employee  Population  Population_University  Percent_University  \\\n",
       "0     1078       276       10059                    719            0.071478   \n",
       "1     3790      1621       62815                   8716            0.138757   \n",
       "2     4560      1910       85753                  13308            0.155190   \n",
       "3     1366       708       39289                   4419            0.112474   \n",
       "4      171        99       30114                   3843            0.127615   \n",
       "\n",
       "   Productivity  SalesIndex  Infrast  Border  \n",
       "0     195.74174  111.075774        0       1  \n",
       "1     117.17365  390.516869        0       0  \n",
       "2     119.64794  469.856708        0       0  \n",
       "3      96.69215  140.750935        0       0  \n",
       "4      86.56347   17.619627        0       0  "
      ]
     },
     "execution_count": 11,
     "metadata": {},
     "output_type": "execute_result"
    }
   ],
   "source": [
    "transformed_data=ds.drop(columns=['Kommun_code','Year','Kommun_name'])\n",
    "transformed_data.head()"
   ]
  },
  {
   "cell_type": "code",
   "execution_count": 12,
   "id": "60bd084b",
   "metadata": {},
   "outputs": [],
   "source": [
    "from sklearn.preprocessing import StandardScaler\n"
   ]
  },
  {
   "cell_type": "code",
   "execution_count": 13,
   "id": "bcb7c958",
   "metadata": {},
   "outputs": [],
   "source": [
    "scaler = StandardScaler()\n"
   ]
  },
  {
   "cell_type": "code",
   "execution_count": 14,
   "id": "19b90212",
   "metadata": {},
   "outputs": [
    {
     "data": {
      "text/html": [
       "<div>\n",
       "<style scoped>\n",
       "    .dataframe tbody tr th:only-of-type {\n",
       "        vertical-align: middle;\n",
       "    }\n",
       "\n",
       "    .dataframe tbody tr th {\n",
       "        vertical-align: top;\n",
       "    }\n",
       "\n",
       "    .dataframe thead th {\n",
       "        text-align: right;\n",
       "    }\n",
       "</style>\n",
       "<table border=\"1\" class=\"dataframe\">\n",
       "  <thead>\n",
       "    <tr style=\"text-align: right;\">\n",
       "      <th></th>\n",
       "      <th>0</th>\n",
       "      <th>1</th>\n",
       "      <th>2</th>\n",
       "      <th>3</th>\n",
       "      <th>4</th>\n",
       "      <th>5</th>\n",
       "      <th>6</th>\n",
       "      <th>7</th>\n",
       "      <th>8</th>\n",
       "    </tr>\n",
       "  </thead>\n",
       "  <tbody>\n",
       "    <tr>\n",
       "      <th>count</th>\n",
       "      <td>2.070000e+02</td>\n",
       "      <td>2.070000e+02</td>\n",
       "      <td>2.070000e+02</td>\n",
       "      <td>2.070000e+02</td>\n",
       "      <td>2.070000e+02</td>\n",
       "      <td>2.070000e+02</td>\n",
       "      <td>2.070000e+02</td>\n",
       "      <td>2.070000e+02</td>\n",
       "      <td>2.070000e+02</td>\n",
       "    </tr>\n",
       "    <tr>\n",
       "      <th>mean</th>\n",
       "      <td>7.508755e-18</td>\n",
       "      <td>-6.436076e-17</td>\n",
       "      <td>2.681698e-19</td>\n",
       "      <td>7.508755e-18</td>\n",
       "      <td>-2.606611e-16</td>\n",
       "      <td>3.664540e-16</td>\n",
       "      <td>9.278676e-17</td>\n",
       "      <td>-2.386711e-17</td>\n",
       "      <td>1.694833e-16</td>\n",
       "    </tr>\n",
       "    <tr>\n",
       "      <th>std</th>\n",
       "      <td>1.002424e+00</td>\n",
       "      <td>1.002424e+00</td>\n",
       "      <td>1.002424e+00</td>\n",
       "      <td>1.002424e+00</td>\n",
       "      <td>1.002424e+00</td>\n",
       "      <td>1.002424e+00</td>\n",
       "      <td>1.002424e+00</td>\n",
       "      <td>1.002424e+00</td>\n",
       "      <td>1.002424e+00</td>\n",
       "    </tr>\n",
       "    <tr>\n",
       "      <th>min</th>\n",
       "      <td>-3.797100e-01</td>\n",
       "      <td>-3.569599e-01</td>\n",
       "      <td>-4.626956e-01</td>\n",
       "      <td>-3.122146e-01</td>\n",
       "      <td>-1.262118e+00</td>\n",
       "      <td>-2.565321e+00</td>\n",
       "      <td>-3.797100e-01</td>\n",
       "      <td>-2.253030e-01</td>\n",
       "      <td>-2.005019e-01</td>\n",
       "    </tr>\n",
       "    <tr>\n",
       "      <th>25%</th>\n",
       "      <td>-3.428848e-01</td>\n",
       "      <td>-3.141416e-01</td>\n",
       "      <td>-3.560796e-01</td>\n",
       "      <td>-2.694479e-01</td>\n",
       "      <td>-6.995845e-01</td>\n",
       "      <td>-6.006146e-01</td>\n",
       "      <td>-3.428848e-01</td>\n",
       "      <td>-2.253030e-01</td>\n",
       "      <td>-2.005019e-01</td>\n",
       "    </tr>\n",
       "    <tr>\n",
       "      <th>50%</th>\n",
       "      <td>-2.900647e-01</td>\n",
       "      <td>-2.610469e-01</td>\n",
       "      <td>-2.702067e-01</td>\n",
       "      <td>-2.131100e-01</td>\n",
       "      <td>-2.670785e-01</td>\n",
       "      <td>-3.574171e-02</td>\n",
       "      <td>-2.900647e-01</td>\n",
       "      <td>-2.253030e-01</td>\n",
       "      <td>-2.005019e-01</td>\n",
       "    </tr>\n",
       "    <tr>\n",
       "      <th>75%</th>\n",
       "      <td>-7.673860e-02</td>\n",
       "      <td>-6.031466e-02</td>\n",
       "      <td>5.063798e-02</td>\n",
       "      <td>-4.082539e-02</td>\n",
       "      <td>3.596477e-01</td>\n",
       "      <td>4.501019e-01</td>\n",
       "      <td>-7.673860e-02</td>\n",
       "      <td>-2.253030e-01</td>\n",
       "      <td>-2.005019e-01</td>\n",
       "    </tr>\n",
       "    <tr>\n",
       "      <th>max</th>\n",
       "      <td>1.185297e+01</td>\n",
       "      <td>1.251799e+01</td>\n",
       "      <td>1.217806e+01</td>\n",
       "      <td>1.300921e+01</td>\n",
       "      <td>4.234598e+00</td>\n",
       "      <td>6.603115e+00</td>\n",
       "      <td>1.185297e+01</td>\n",
       "      <td>4.438468e+00</td>\n",
       "      <td>4.987484e+00</td>\n",
       "    </tr>\n",
       "  </tbody>\n",
       "</table>\n",
       "</div>"
      ],
      "text/plain": [
       "                  0             1             2             3             4  \\\n",
       "count  2.070000e+02  2.070000e+02  2.070000e+02  2.070000e+02  2.070000e+02   \n",
       "mean   7.508755e-18 -6.436076e-17  2.681698e-19  7.508755e-18 -2.606611e-16   \n",
       "std    1.002424e+00  1.002424e+00  1.002424e+00  1.002424e+00  1.002424e+00   \n",
       "min   -3.797100e-01 -3.569599e-01 -4.626956e-01 -3.122146e-01 -1.262118e+00   \n",
       "25%   -3.428848e-01 -3.141416e-01 -3.560796e-01 -2.694479e-01 -6.995845e-01   \n",
       "50%   -2.900647e-01 -2.610469e-01 -2.702067e-01 -2.131100e-01 -2.670785e-01   \n",
       "75%   -7.673860e-02 -6.031466e-02  5.063798e-02 -4.082539e-02  3.596477e-01   \n",
       "max    1.185297e+01  1.251799e+01  1.217806e+01  1.300921e+01  4.234598e+00   \n",
       "\n",
       "                  5             6             7             8  \n",
       "count  2.070000e+02  2.070000e+02  2.070000e+02  2.070000e+02  \n",
       "mean   3.664540e-16  9.278676e-17 -2.386711e-17  1.694833e-16  \n",
       "std    1.002424e+00  1.002424e+00  1.002424e+00  1.002424e+00  \n",
       "min   -2.565321e+00 -3.797100e-01 -2.253030e-01 -2.005019e-01  \n",
       "25%   -6.006146e-01 -3.428848e-01 -2.253030e-01 -2.005019e-01  \n",
       "50%   -3.574171e-02 -2.900647e-01 -2.253030e-01 -2.005019e-01  \n",
       "75%    4.501019e-01 -7.673860e-02 -2.253030e-01 -2.005019e-01  \n",
       "max    6.603115e+00  1.185297e+01  4.438468e+00  4.987484e+00  "
      ]
     },
     "execution_count": 14,
     "metadata": {},
     "output_type": "execute_result"
    }
   ],
   "source": [
    "X = scaler.fit_transform(transformed_data)\n",
    "\n",
    "pd.DataFrame(X).describe()"
   ]
  },
  {
   "cell_type": "code",
   "execution_count": 15,
   "id": "2ea4f4bd",
   "metadata": {},
   "outputs": [
    {
     "data": {
      "text/plain": [
       "array([[ 0.0171844 , -0.16924445, -0.36696823, ...,  0.0171844 ,\n",
       "        -0.22530295,  4.98748434],\n",
       "       [ 1.02597326,  0.75220563,  0.42373029, ...,  1.02597326,\n",
       "        -0.22530295, -0.20050188],\n",
       "       [ 1.31239193,  0.9501975 ,  0.76752138, ...,  1.31239193,\n",
       "        -0.22530295, -0.20050188],\n",
       "       ...,\n",
       "       [ 1.93284171,  1.6935234 ,  1.51252197, ...,  1.93284171,\n",
       "        -0.22530295, -0.20050188],\n",
       "       [-0.32726194, -0.291191  , -0.21113965, ..., -0.32726194,\n",
       "        -0.22530295, -0.20050188],\n",
       "       [-0.33693322, -0.31379907, -0.34869805, ..., -0.33693322,\n",
       "        -0.22530295, -0.20050188]])"
      ]
     },
     "execution_count": 15,
     "metadata": {},
     "output_type": "execute_result"
    }
   ],
   "source": [
    "X"
   ]
  },
  {
   "cell_type": "code",
   "execution_count": 16,
   "id": "43caa302",
   "metadata": {},
   "outputs": [],
   "source": [
    "kmeans = KMeans(n_clusters=3)\n",
    "kmeans.fit(X)\n",
    "lables = kmeans.predict(X)"
   ]
  },
  {
   "cell_type": "code",
   "execution_count": 17,
   "id": "37996d2d",
   "metadata": {},
   "outputs": [
    {
     "data": {
      "image/png": "[encoded data removed]",
      "text/plain": [
       "<Figure size 432x288 with 1 Axes>"
      ]
     },
     "metadata": {
      "needs_background": "light"
     },
     "output_type": "display_data"
    }
   ],
   "source": [
    "plt.scatter(X[:,0], X[:,1], c=kmeans.labels_, cmap='viridis') \n",
    "\n",
    "centers = kmeans.cluster_centers_\n",
    "plt.scatter(centers[:, 0], centers[:, 1], c='black', s=200, alpha=0.5);"
   ]
  },
  {
   "cell_type": "code",
   "execution_count": 18,
   "id": "0e020ca5",
   "metadata": {},
   "outputs": [],
   "source": [
    "kmeans = KMeans(n_clusters=3).fit(X)\n",
    "lables=kmeans.predict(X)"
   ]
  },
  {
   "cell_type": "code",
   "execution_count": 19,
   "id": "e11fb42f",
   "metadata": {},
   "outputs": [],
   "source": [
    "ikea = train_df.iloc[:,2:12]"
   ]
  },
  {
   "cell_type": "code",
   "execution_count": 20,
   "id": "1299ea53",
   "metadata": {},
   "outputs": [],
   "source": [
    "ikea['cluster']=lables"
   ]
  },
  {
   "cell_type": "code",
   "execution_count": 21,
   "id": "725405d4",
   "metadata": {},
   "outputs": [
    {
     "data": {
      "text/html": [
       "<div>\n",
       "<style scoped>\n",
       "    .dataframe tbody tr th:only-of-type {\n",
       "        vertical-align: middle;\n",
       "    }\n",
       "\n",
       "    .dataframe tbody tr th {\n",
       "        vertical-align: top;\n",
       "    }\n",
       "\n",
       "    .dataframe thead th {\n",
       "        text-align: right;\n",
       "    }\n",
       "</style>\n",
       "<table border=\"1\" class=\"dataframe\">\n",
       "  <thead>\n",
       "    <tr style=\"text-align: right;\">\n",
       "      <th></th>\n",
       "      <th>Kommun_name</th>\n",
       "      <th>Revenue</th>\n",
       "      <th>Employee</th>\n",
       "      <th>Population</th>\n",
       "      <th>Population_University</th>\n",
       "      <th>Percent_University</th>\n",
       "      <th>Productivity</th>\n",
       "      <th>SalesIndex</th>\n",
       "      <th>Infrast</th>\n",
       "      <th>Border</th>\n",
       "      <th>cluster</th>\n",
       "      <th>has_ikea</th>\n",
       "    </tr>\n",
       "  </thead>\n",
       "  <tbody>\n",
       "    <tr>\n",
       "      <th>0</th>\n",
       "      <td>Haparanda</td>\n",
       "      <td>1078</td>\n",
       "      <td>276</td>\n",
       "      <td>10059</td>\n",
       "      <td>719</td>\n",
       "      <td>0.071478</td>\n",
       "      <td>195.74174</td>\n",
       "      <td>111.075774</td>\n",
       "      <td>0</td>\n",
       "      <td>1</td>\n",
       "      <td>0</td>\n",
       "      <td>0</td>\n",
       "    </tr>\n",
       "    <tr>\n",
       "      <th>1</th>\n",
       "      <td>Kalmar</td>\n",
       "      <td>3790</td>\n",
       "      <td>1621</td>\n",
       "      <td>62815</td>\n",
       "      <td>8716</td>\n",
       "      <td>0.138757</td>\n",
       "      <td>117.17365</td>\n",
       "      <td>390.516869</td>\n",
       "      <td>0</td>\n",
       "      <td>0</td>\n",
       "      <td>2</td>\n",
       "      <td>2</td>\n",
       "    </tr>\n",
       "    <tr>\n",
       "      <th>2</th>\n",
       "      <td>Karlstad</td>\n",
       "      <td>4560</td>\n",
       "      <td>1910</td>\n",
       "      <td>85753</td>\n",
       "      <td>13308</td>\n",
       "      <td>0.155190</td>\n",
       "      <td>119.64794</td>\n",
       "      <td>469.856708</td>\n",
       "      <td>0</td>\n",
       "      <td>0</td>\n",
       "      <td>2</td>\n",
       "      <td>2</td>\n",
       "    </tr>\n",
       "    <tr>\n",
       "      <th>3</th>\n",
       "      <td>Upplands Väsby</td>\n",
       "      <td>1366</td>\n",
       "      <td>708</td>\n",
       "      <td>39289</td>\n",
       "      <td>4419</td>\n",
       "      <td>0.112474</td>\n",
       "      <td>96.69215</td>\n",
       "      <td>140.750935</td>\n",
       "      <td>0</td>\n",
       "      <td>0</td>\n",
       "      <td>0</td>\n",
       "      <td>0</td>\n",
       "    </tr>\n",
       "    <tr>\n",
       "      <th>4</th>\n",
       "      <td>Vallentuna</td>\n",
       "      <td>171</td>\n",
       "      <td>99</td>\n",
       "      <td>30114</td>\n",
       "      <td>3843</td>\n",
       "      <td>0.127615</td>\n",
       "      <td>86.56347</td>\n",
       "      <td>17.619627</td>\n",
       "      <td>0</td>\n",
       "      <td>0</td>\n",
       "      <td>0</td>\n",
       "      <td>0</td>\n",
       "    </tr>\n",
       "    <tr>\n",
       "      <th>5</th>\n",
       "      <td>Österåker</td>\n",
       "      <td>563</td>\n",
       "      <td>314</td>\n",
       "      <td>39521</td>\n",
       "      <td>5011</td>\n",
       "      <td>0.126793</td>\n",
       "      <td>89.85712</td>\n",
       "      <td>58.010817</td>\n",
       "      <td>0</td>\n",
       "      <td>0</td>\n",
       "      <td>0</td>\n",
       "      <td>0</td>\n",
       "    </tr>\n",
       "    <tr>\n",
       "      <th>6</th>\n",
       "      <td>Värmdö</td>\n",
       "      <td>920</td>\n",
       "      <td>454</td>\n",
       "      <td>38301</td>\n",
       "      <td>4720</td>\n",
       "      <td>0.123234</td>\n",
       "      <td>101.55604</td>\n",
       "      <td>94.795652</td>\n",
       "      <td>0</td>\n",
       "      <td>0</td>\n",
       "      <td>0</td>\n",
       "      <td>0</td>\n",
       "    </tr>\n",
       "    <tr>\n",
       "      <th>7</th>\n",
       "      <td>Järfälla</td>\n",
       "      <td>5119</td>\n",
       "      <td>2001</td>\n",
       "      <td>66211</td>\n",
       "      <td>9009</td>\n",
       "      <td>0.136065</td>\n",
       "      <td>128.20702</td>\n",
       "      <td>527.455371</td>\n",
       "      <td>0</td>\n",
       "      <td>0</td>\n",
       "      <td>2</td>\n",
       "      <td>2</td>\n",
       "    </tr>\n",
       "    <tr>\n",
       "      <th>8</th>\n",
       "      <td>Ekerö</td>\n",
       "      <td>144</td>\n",
       "      <td>116</td>\n",
       "      <td>25410</td>\n",
       "      <td>3893</td>\n",
       "      <td>0.153207</td>\n",
       "      <td>62.21259</td>\n",
       "      <td>14.837580</td>\n",
       "      <td>0</td>\n",
       "      <td>0</td>\n",
       "      <td>0</td>\n",
       "      <td>0</td>\n",
       "    </tr>\n",
       "    <tr>\n",
       "      <th>9</th>\n",
       "      <td>Huddinge</td>\n",
       "      <td>7153</td>\n",
       "      <td>2374</td>\n",
       "      <td>97453</td>\n",
       "      <td>12795</td>\n",
       "      <td>0.131294</td>\n",
       "      <td>151.00150</td>\n",
       "      <td>737.036192</td>\n",
       "      <td>0</td>\n",
       "      <td>0</td>\n",
       "      <td>2</td>\n",
       "      <td>2</td>\n",
       "    </tr>\n",
       "  </tbody>\n",
       "</table>\n",
       "</div>"
      ],
      "text/plain": [
       "      Kommun_name  Revenue  Employee  Population  Population_University  \\\n",
       "0       Haparanda     1078       276       10059                    719   \n",
       "1          Kalmar     3790      1621       62815                   8716   \n",
       "2        Karlstad     4560      1910       85753                  13308   \n",
       "3  Upplands Väsby     1366       708       39289                   4419   \n",
       "4      Vallentuna      171        99       30114                   3843   \n",
       "5       Österåker      563       314       39521                   5011   \n",
       "6          Värmdö      920       454       38301                   4720   \n",
       "7        Järfälla     5119      2001       66211                   9009   \n",
       "8           Ekerö      144       116       25410                   3893   \n",
       "9        Huddinge     7153      2374       97453                  12795   \n",
       "\n",
       "   Percent_University  Productivity  SalesIndex  Infrast  Border  cluster  \\\n",
       "0            0.071478     195.74174  111.075774        0       1        0   \n",
       "1            0.138757     117.17365  390.516869        0       0        2   \n",
       "2            0.155190     119.64794  469.856708        0       0        2   \n",
       "3            0.112474      96.69215  140.750935        0       0        0   \n",
       "4            0.127615      86.56347   17.619627        0       0        0   \n",
       "5            0.126793      89.85712   58.010817        0       0        0   \n",
       "6            0.123234     101.55604   94.795652        0       0        0   \n",
       "7            0.136065     128.20702  527.455371        0       0        2   \n",
       "8            0.153207      62.21259   14.837580        0       0        0   \n",
       "9            0.131294     151.00150  737.036192        0       0        2   \n",
       "\n",
       "   has_ikea  \n",
       "0         0  \n",
       "1         2  \n",
       "2         2  \n",
       "3         0  \n",
       "4         0  \n",
       "5         0  \n",
       "6         0  \n",
       "7         2  \n",
       "8         0  \n",
       "9         2  "
      ]
     },
     "execution_count": 21,
     "metadata": {},
     "output_type": "execute_result"
    }
   ],
   "source": [
    "ikea['has_ikea']=pd.Series(lables)\n",
    "ikea.head(10)"
   ]
  },
  {
   "cell_type": "code",
   "execution_count": 22,
   "id": "2e0eacf9",
   "metadata": {},
   "outputs": [
    {
     "name": "stderr",
     "output_type": "stream",
     "text": [
      "C:\\ProgramData\\Anaconda3\\lib\\site-packages\\sklearn\\cluster\\_kmeans.py:881: UserWarning: KMeans is known to have a memory leak on Windows with MKL, when there are less chunks than available threads. You can avoid it by setting the environment variable OMP_NUM_THREADS=1.\n",
      "  warnings.warn(\n"
     ]
    }
   ],
   "source": [
    "# Elbow method\n",
    "wcss = []\n",
    "\n",
    "for i in range(1,30):\n",
    "    kmeans = KMeans(i)\n",
    "    kmeans.fit(X)\n",
    "    wcss_iter = kmeans.inertia_\n",
    "    wcss.append(wcss_iter)"
   ]
  },
  {
   "cell_type": "code",
   "execution_count": 23,
   "id": "06748b9f",
   "metadata": {},
   "outputs": [
    {
     "data": {
      "text/plain": [
       "49.65276966255818"
      ]
     },
     "execution_count": 23,
     "metadata": {},
     "output_type": "execute_result"
    }
   ],
   "source": [
    "kmeans.inertia_"
   ]
  },
  {
   "cell_type": "code",
   "execution_count": 24,
   "id": "a95e235d",
   "metadata": {},
   "outputs": [
    {
     "data": {
      "text/plain": [
       "[1863.0,\n",
       " 1074.1803532848032,\n",
       " 814.56691381711,\n",
       " 601.7770774871863,\n",
       " 440.1058553944916,\n",
       " 370.1658312876187,\n",
       " 310.33226967963793,\n",
       " 267.8211569849828,\n",
       " 230.9675332652711,\n",
       " 195.70301874774427,\n",
       " 169.50518281432755,\n",
       " 149.84283864123947,\n",
       " 136.8743776788539,\n",
       " 121.9146003749077,\n",
       " 115.31014235850793,\n",
       " 105.4960606856846,\n",
       " 95.43946859503276,\n",
       " 88.73466150838182,\n",
       " 84.28284946543175,\n",
       " 80.13844425922927,\n",
       " 74.34477174424835,\n",
       " 72.43446205794422,\n",
       " 68.18771975738906,\n",
       " 65.6827575328794,\n",
       " 61.954405160269495,\n",
       " 59.4342366031446,\n",
       " 55.368582290889805,\n",
       " 51.883415990892814,\n",
       " 49.65276966255818]"
      ]
     },
     "execution_count": 24,
     "metadata": {},
     "output_type": "execute_result"
    }
   ],
   "source": [
    "wcss"
   ]
  },
  {
   "cell_type": "code",
   "execution_count": 25,
   "id": "87390086",
   "metadata": {},
   "outputs": [
    {
     "data": {
      "text/plain": [
       "Text(0, 0.5, 'sum of squares - within cluster')"
      ]
     },
     "execution_count": 25,
     "metadata": {},
     "output_type": "execute_result"
    },
    {
     "data": {
      "image/png": "[encoded data removed]",
      "text/plain": [
       "<Figure size 432x288 with 1 Axes>"
      ]
     },
     "metadata": {
      "needs_background": "light"
     },
     "output_type": "display_data"
    }
   ],
   "source": [
    "number_clusters = range(1,30)\n",
    "plt.plot(number_clusters,wcss)\n",
    "plt.title(\"ELBOW METHOD\")\n",
    "plt.xlabel(\"No. of clusters\")\n",
    "plt.ylabel(\"sum of squares - within cluster\")"
   ]
  },
  {
   "cell_type": "code",
   "execution_count": 26,
   "id": "b5117746",
   "metadata": {},
   "outputs": [],
   "source": [
    "cluster1=ikea[ikea.has_ikea==0]\n",
    "cluster2=ikea[ikea.has_ikea==1]\n",
    "cluster3=ikea[ikea.has_ikea==2]"
   ]
  },
  {
   "cell_type": "code",
   "execution_count": 27,
   "id": "3cc18f41",
   "metadata": {},
   "outputs": [],
   "source": [
    "ikea['has_ikea'] = 0\n",
    "ikea['has_ikea'] = ikea['Kommun_name'].map({'Borlänge':1,'Gävle':1,'Göteborg':1,'Haparanda':1,'Helsingborg':1,'Jönköping':1,'Kalmar':1,'Karlstad':1,\n",
    "    'Linköping':1,'Malmö':1,'Stockholm':1,'Sundsvall':1,'Uddevalla':1,'Umeå':1,'Uppsala':1,'Västerås':1,'Älmhult':1,\n",
    "    'Mölndal':1,'Örebro':1})\n",
    "ikea['has_ikea'] = ikea['has_ikea'].fillna('0').astype(int)"
   ]
  },
  {
   "cell_type": "code",
   "execution_count": 28,
   "id": "b12e5078",
   "metadata": {},
   "outputs": [],
   "source": [
    "# CLUSTER 1 ANALYSES"
   ]
  },
  {
   "cell_type": "code",
   "execution_count": 29,
   "id": "3d9961ce",
   "metadata": {},
   "outputs": [
    {
     "name": "stdout",
     "output_type": "stream",
     "text": [
      "        Kommun_name  Revenue  Employee  Population  Population_University  \\\n",
      "0         Haparanda     1078       276       10059                    719   \n",
      "3    Upplands Väsby     1366       708       39289                   4419   \n",
      "4        Vallentuna      171        99       30114                   3843   \n",
      "5         Österåker      563       314       39521                   5011   \n",
      "6            Värmdö      920       454       38301                   4720   \n",
      "..              ...      ...       ...         ...                    ...   \n",
      "201       Degerfors       56        27        9641                    483   \n",
      "202       Hällefors       52        33        7220                    368   \n",
      "203    Ljusnarsberg       51        24        4931                    266   \n",
      "205           Kumla      152        98       20456                   1598   \n",
      "206       Askersund      126        65       11278                    809   \n",
      "\n",
      "     Percent_University  Productivity  SalesIndex  Infrast  Border  cluster  \\\n",
      "0              0.071478     195.74174  111.075774        0       1        0   \n",
      "3              0.112474      96.69215  140.750935        0       0        0   \n",
      "4              0.127615      86.56347   17.619627        0       0        0   \n",
      "5              0.126793      89.85712   58.010817        0       0        0   \n",
      "6              0.123234     101.55604   94.795652        0       0        0   \n",
      "..                  ...           ...         ...      ...     ...      ...   \n",
      "201            0.050099     103.94367    5.770170        0       0        0   \n",
      "202            0.050970      78.97019    5.358015        0       0        0   \n",
      "203            0.053944     106.49585    5.254976        0       0        0   \n",
      "205            0.078119      77.73047   15.661890        0       0        0   \n",
      "206            0.071733      97.14735   12.982883        0       0        0   \n",
      "\n",
      "     has_ikea  \n",
      "0           0  \n",
      "3           0  \n",
      "4           0  \n",
      "5           0  \n",
      "6           0  \n",
      "..        ...  \n",
      "201         0  \n",
      "202         0  \n",
      "203         0  \n",
      "205         0  \n",
      "206         0  \n",
      "\n",
      "[177 rows x 12 columns]\n"
     ]
    }
   ],
   "source": [
    "print(cluster1)"
   ]
  },
  {
   "cell_type": "code",
   "execution_count": 30,
   "id": "575623d5",
   "metadata": {},
   "outputs": [
    {
     "data": {
      "text/plain": [
       "(177, 12)"
      ]
     },
     "execution_count": 30,
     "metadata": {},
     "output_type": "execute_result"
    }
   ],
   "source": [
    "cluster1.shape"
   ]
  },
  {
   "cell_type": "code",
   "execution_count": 31,
   "id": "34c5610e",
   "metadata": {},
   "outputs": [
    {
     "data": {
      "text/plain": [
       "182    4\n",
       "112    3\n",
       "135    3\n",
       "52     2\n",
       "68     2\n",
       "      ..\n",
       "902    1\n",
       "669    1\n",
       "63     1\n",
       "581    1\n",
       "152    1\n",
       "Name: Revenue, Length: 156, dtype: int64"
      ]
     },
     "execution_count": 31,
     "metadata": {},
     "output_type": "execute_result"
    }
   ],
   "source": [
    "cluster1[\"Revenue\"].value_counts()"
   ]
  },
  {
   "cell_type": "code",
   "execution_count": 32,
   "id": "bf1a796f",
   "metadata": {},
   "outputs": [
    {
     "data": {
      "text/plain": [
       "237.916478"
      ]
     },
     "execution_count": 32,
     "metadata": {},
     "output_type": "execute_result"
    }
   ],
   "source": [
    "cluster1[\"SalesIndex\"].max()"
   ]
  },
  {
   "cell_type": "code",
   "execution_count": 33,
   "id": "6c737c73",
   "metadata": {},
   "outputs": [
    {
     "data": {
      "text/html": [
       "<div>\n",
       "<style scoped>\n",
       "    .dataframe tbody tr th:only-of-type {\n",
       "        vertical-align: middle;\n",
       "    }\n",
       "\n",
       "    .dataframe tbody tr th {\n",
       "        vertical-align: top;\n",
       "    }\n",
       "\n",
       "    .dataframe thead th {\n",
       "        text-align: right;\n",
       "    }\n",
       "</style>\n",
       "<table border=\"1\" class=\"dataframe\">\n",
       "  <thead>\n",
       "    <tr style=\"text-align: right;\">\n",
       "      <th></th>\n",
       "      <th>Kommun_name</th>\n",
       "      <th>Revenue</th>\n",
       "      <th>Employee</th>\n",
       "      <th>Population</th>\n",
       "      <th>Population_University</th>\n",
       "      <th>Percent_University</th>\n",
       "      <th>Productivity</th>\n",
       "      <th>SalesIndex</th>\n",
       "      <th>Infrast</th>\n",
       "      <th>Border</th>\n",
       "      <th>cluster</th>\n",
       "      <th>has_ikea</th>\n",
       "    </tr>\n",
       "  </thead>\n",
       "  <tbody>\n",
       "    <tr>\n",
       "      <th>168</th>\n",
       "      <td>Uddevalla</td>\n",
       "      <td>2309</td>\n",
       "      <td>1010</td>\n",
       "      <td>51868</td>\n",
       "      <td>5727</td>\n",
       "      <td>0.110415</td>\n",
       "      <td>114.57143</td>\n",
       "      <td>237.916478</td>\n",
       "      <td>0</td>\n",
       "      <td>0</td>\n",
       "      <td>0</td>\n",
       "      <td>0</td>\n",
       "    </tr>\n",
       "  </tbody>\n",
       "</table>\n",
       "</div>"
      ],
      "text/plain": [
       "    Kommun_name  Revenue  Employee  Population  Population_University  \\\n",
       "168   Uddevalla     2309      1010       51868                   5727   \n",
       "\n",
       "     Percent_University  Productivity  SalesIndex  Infrast  Border  cluster  \\\n",
       "168            0.110415     114.57143  237.916478        0       0        0   \n",
       "\n",
       "     has_ikea  \n",
       "168         0  "
      ]
     },
     "execution_count": 33,
     "metadata": {},
     "output_type": "execute_result"
    }
   ],
   "source": [
    "cluster1.loc[cluster1[\"SalesIndex\"]==237.916478]"
   ]
  },
  {
   "cell_type": "code",
   "execution_count": 34,
   "id": "609a2a6b",
   "metadata": {},
   "outputs": [
    {
     "data": {
      "text/plain": [
       "82608"
      ]
     },
     "execution_count": 34,
     "metadata": {},
     "output_type": "execute_result"
    }
   ],
   "source": [
    "cluster1[\"Population\"].max()"
   ]
  },
  {
   "cell_type": "code",
   "execution_count": 35,
   "id": "f79bc537",
   "metadata": {},
   "outputs": [
    {
     "data": {
      "text/html": [
       "<div>\n",
       "<style scoped>\n",
       "    .dataframe tbody tr th:only-of-type {\n",
       "        vertical-align: middle;\n",
       "    }\n",
       "\n",
       "    .dataframe tbody tr th {\n",
       "        vertical-align: top;\n",
       "    }\n",
       "\n",
       "    .dataframe thead th {\n",
       "        text-align: right;\n",
       "    }\n",
       "</style>\n",
       "<table border=\"1\" class=\"dataframe\">\n",
       "  <thead>\n",
       "    <tr style=\"text-align: right;\">\n",
       "      <th></th>\n",
       "      <th>Kommun_name</th>\n",
       "      <th>Revenue</th>\n",
       "      <th>Employee</th>\n",
       "      <th>Population</th>\n",
       "      <th>Population_University</th>\n",
       "      <th>Percent_University</th>\n",
       "      <th>Productivity</th>\n",
       "      <th>SalesIndex</th>\n",
       "      <th>Infrast</th>\n",
       "      <th>Border</th>\n",
       "      <th>cluster</th>\n",
       "      <th>has_ikea</th>\n",
       "    </tr>\n",
       "  </thead>\n",
       "  <tbody>\n",
       "    <tr>\n",
       "      <th>10</th>\n",
       "      <td>Botkyrka</td>\n",
       "      <td>1469</td>\n",
       "      <td>530</td>\n",
       "      <td>82608</td>\n",
       "      <td>8023</td>\n",
       "      <td>0.097121</td>\n",
       "      <td>138.90558</td>\n",
       "      <td>151.363926</td>\n",
       "      <td>0</td>\n",
       "      <td>0</td>\n",
       "      <td>0</td>\n",
       "      <td>0</td>\n",
       "    </tr>\n",
       "  </tbody>\n",
       "</table>\n",
       "</div>"
      ],
      "text/plain": [
       "   Kommun_name  Revenue  Employee  Population  Population_University  \\\n",
       "10    Botkyrka     1469       530       82608                   8023   \n",
       "\n",
       "    Percent_University  Productivity  SalesIndex  Infrast  Border  cluster  \\\n",
       "10            0.097121     138.90558  151.363926        0       0        0   \n",
       "\n",
       "    has_ikea  \n",
       "10         0  "
      ]
     },
     "execution_count": 35,
     "metadata": {},
     "output_type": "execute_result"
    }
   ],
   "source": [
    "cluster1.loc[cluster1[\"Population\"]==82608]"
   ]
  },
  {
   "cell_type": "code",
   "execution_count": 36,
   "id": "1ecae153",
   "metadata": {},
   "outputs": [],
   "source": [
    "# CLUSTER 2 ANALYSES"
   ]
  },
  {
   "cell_type": "code",
   "execution_count": 37,
   "id": "541bff36",
   "metadata": {},
   "outputs": [
    {
     "name": "stdout",
     "output_type": "stream",
     "text": [
      "   Kommun_name  Revenue  Employee  Population  Population_University  \\\n",
      "19   Stockholm    32897     18795      847073                 191585   \n",
      "\n",
      "    Percent_University  Productivity   SalesIndex  Infrast  Border  cluster  \\\n",
      "19            0.226173       87.7178  3389.665819        1       0        1   \n",
      "\n",
      "    has_ikea  \n",
      "19         1  \n"
     ]
    },
    {
     "data": {
      "text/plain": [
       "32897    1\n",
       "Name: Revenue, dtype: int64"
      ]
     },
     "execution_count": 37,
     "metadata": {},
     "output_type": "execute_result"
    }
   ],
   "source": [
    "print(cluster2)\n",
    "cluster2[\"Revenue\"].value_counts()"
   ]
  },
  {
   "cell_type": "code",
   "execution_count": 38,
   "id": "eb511ee6",
   "metadata": {},
   "outputs": [
    {
     "data": {
      "text/plain": [
       "847073"
      ]
     },
     "execution_count": 38,
     "metadata": {},
     "output_type": "execute_result"
    }
   ],
   "source": [
    "cluster2[\"Population\"].max()"
   ]
  },
  {
   "cell_type": "code",
   "execution_count": 39,
   "id": "2c30e282",
   "metadata": {},
   "outputs": [
    {
     "data": {
      "text/html": [
       "<div>\n",
       "<style scoped>\n",
       "    .dataframe tbody tr th:only-of-type {\n",
       "        vertical-align: middle;\n",
       "    }\n",
       "\n",
       "    .dataframe tbody tr th {\n",
       "        vertical-align: top;\n",
       "    }\n",
       "\n",
       "    .dataframe thead th {\n",
       "        text-align: right;\n",
       "    }\n",
       "</style>\n",
       "<table border=\"1\" class=\"dataframe\">\n",
       "  <thead>\n",
       "    <tr style=\"text-align: right;\">\n",
       "      <th></th>\n",
       "      <th>Kommun_name</th>\n",
       "      <th>Revenue</th>\n",
       "      <th>Employee</th>\n",
       "      <th>Population</th>\n",
       "      <th>Population_University</th>\n",
       "      <th>Percent_University</th>\n",
       "      <th>Productivity</th>\n",
       "      <th>SalesIndex</th>\n",
       "      <th>Infrast</th>\n",
       "      <th>Border</th>\n",
       "      <th>cluster</th>\n",
       "      <th>has_ikea</th>\n",
       "    </tr>\n",
       "  </thead>\n",
       "  <tbody>\n",
       "    <tr>\n",
       "      <th>19</th>\n",
       "      <td>Stockholm</td>\n",
       "      <td>32897</td>\n",
       "      <td>18795</td>\n",
       "      <td>847073</td>\n",
       "      <td>191585</td>\n",
       "      <td>0.226173</td>\n",
       "      <td>87.7178</td>\n",
       "      <td>3389.665819</td>\n",
       "      <td>1</td>\n",
       "      <td>0</td>\n",
       "      <td>1</td>\n",
       "      <td>1</td>\n",
       "    </tr>\n",
       "  </tbody>\n",
       "</table>\n",
       "</div>"
      ],
      "text/plain": [
       "   Kommun_name  Revenue  Employee  Population  Population_University  \\\n",
       "19   Stockholm    32897     18795      847073                 191585   \n",
       "\n",
       "    Percent_University  Productivity   SalesIndex  Infrast  Border  cluster  \\\n",
       "19            0.226173       87.7178  3389.665819        1       0        1   \n",
       "\n",
       "    has_ikea  \n",
       "19         1  "
      ]
     },
     "execution_count": 39,
     "metadata": {},
     "output_type": "execute_result"
    }
   ],
   "source": [
    "cluster2.loc[cluster2[\"Population\"]==847073]"
   ]
  },
  {
   "cell_type": "code",
   "execution_count": 40,
   "id": "49ea54e6",
   "metadata": {},
   "outputs": [
    {
     "data": {
      "text/plain": [
       "3389.665819"
      ]
     },
     "execution_count": 40,
     "metadata": {},
     "output_type": "execute_result"
    }
   ],
   "source": [
    "cluster2[\"SalesIndex\"].max()"
   ]
  },
  {
   "cell_type": "code",
   "execution_count": 41,
   "id": "e59e2cea",
   "metadata": {},
   "outputs": [
    {
     "data": {
      "text/html": [
       "<div>\n",
       "<style scoped>\n",
       "    .dataframe tbody tr th:only-of-type {\n",
       "        vertical-align: middle;\n",
       "    }\n",
       "\n",
       "    .dataframe tbody tr th {\n",
       "        vertical-align: top;\n",
       "    }\n",
       "\n",
       "    .dataframe thead th {\n",
       "        text-align: right;\n",
       "    }\n",
       "</style>\n",
       "<table border=\"1\" class=\"dataframe\">\n",
       "  <thead>\n",
       "    <tr style=\"text-align: right;\">\n",
       "      <th></th>\n",
       "      <th>Kommun_name</th>\n",
       "      <th>Revenue</th>\n",
       "      <th>Employee</th>\n",
       "      <th>Population</th>\n",
       "      <th>Population_University</th>\n",
       "      <th>Percent_University</th>\n",
       "      <th>Productivity</th>\n",
       "      <th>SalesIndex</th>\n",
       "      <th>Infrast</th>\n",
       "      <th>Border</th>\n",
       "      <th>cluster</th>\n",
       "      <th>has_ikea</th>\n",
       "    </tr>\n",
       "  </thead>\n",
       "  <tbody>\n",
       "    <tr>\n",
       "      <th>19</th>\n",
       "      <td>Stockholm</td>\n",
       "      <td>32897</td>\n",
       "      <td>18795</td>\n",
       "      <td>847073</td>\n",
       "      <td>191585</td>\n",
       "      <td>0.226173</td>\n",
       "      <td>87.7178</td>\n",
       "      <td>3389.665819</td>\n",
       "      <td>1</td>\n",
       "      <td>0</td>\n",
       "      <td>1</td>\n",
       "      <td>1</td>\n",
       "    </tr>\n",
       "  </tbody>\n",
       "</table>\n",
       "</div>"
      ],
      "text/plain": [
       "   Kommun_name  Revenue  Employee  Population  Population_University  \\\n",
       "19   Stockholm    32897     18795      847073                 191585   \n",
       "\n",
       "    Percent_University  Productivity   SalesIndex  Infrast  Border  cluster  \\\n",
       "19            0.226173       87.7178  3389.665819        1       0        1   \n",
       "\n",
       "    has_ikea  \n",
       "19         1  "
      ]
     },
     "execution_count": 41,
     "metadata": {},
     "output_type": "execute_result"
    }
   ],
   "source": [
    "cluster2.loc[cluster2[\"SalesIndex\"]==3389.665819]"
   ]
  },
  {
   "cell_type": "code",
   "execution_count": 42,
   "id": "57683e13",
   "metadata": {},
   "outputs": [],
   "source": [
    "# CLUSTER 3 ANALYSES"
   ]
  },
  {
   "cell_type": "code",
   "execution_count": 43,
   "id": "e8fc055a",
   "metadata": {},
   "outputs": [
    {
     "name": "stdout",
     "output_type": "stream",
     "text": [
      "      Kommun_name  Revenue  Employee  Population  Population_University  \\\n",
      "1          Kalmar     3790      1621       62815                   8716   \n",
      "2        Karlstad     4560      1910       85753                  13308   \n",
      "7        Järfälla     5119      2001       66211                   9009   \n",
      "9        Huddinge     7153      2374       97453                  12795   \n",
      "16           Täby     3441      1546       63789                  13442   \n",
      "17       Danderyd      500       272       31330                   8448   \n",
      "18     Sollentuna     2393      1116       64630                  12322   \n",
      "20     Södertälje     2191       894       86246                   8734   \n",
      "21          Nacka     3104      1489       90108                  17871   \n",
      "23          Solna     1491       847       68144                  16038   \n",
      "24        Lidingö      533       259       44017                  10030   \n",
      "33        Uppsala     7042      3391      197787                  40476   \n",
      "42     Eskilstuna     2844      1485       96311                   9898   \n",
      "52      Linköping     5348      2280      146416                  26023   \n",
      "53     Norrköping     4438      2630      130050                  14526   \n",
      "64      Jönköping     5298      2556      127382                  16750   \n",
      "77          Växjö     3268      1315       83005                  12266   \n",
      "92     Karlskrona     2037       785       64032                   9004   \n",
      "117         Malmö    11217      5740      298963                  50084   \n",
      "118          Lund     3438      1561      110488                  29233   \n",
      "120   Helsingborg     5528      3244      129177                  16395   \n",
      "125  Kristianstad     2739      1285       79543                   9507   \n",
      "130      Halmstad     3196      1437       91800                  11604   \n",
      "132    Falkenberg     4395      2035       41008                   3396   \n",
      "134    Kungsbacka     2139      1038       75025                  10461   \n",
      "165       Mölndal     3512      1487       60973                   9962   \n",
      "173         Borås     3365      1486      103294                  10919   \n",
      "179        Skövde     2438      1027       51402                   6315   \n",
      "204        Örebro     6228      2995      135460                  19516   \n",
      "\n",
      "     Percent_University  Productivity   SalesIndex  Infrast  Border  cluster  \\\n",
      "1              0.138757     117.17365   390.516869        0       0        2   \n",
      "2              0.155190     119.64794   469.856708        0       0        2   \n",
      "7              0.136065     128.20702   527.455371        0       0        2   \n",
      "9              0.131294     151.00150   737.036192        0       0        2   \n",
      "16             0.210726     111.54470   354.556345        0       0        2   \n",
      "17             0.269646      92.12444    51.519376        0       0        2   \n",
      "18             0.190654     107.46134   246.571733        0       0        2   \n",
      "20             0.101268     122.82270   225.757905        0       0        2   \n",
      "21             0.198329     104.47221   319.832286        0       0        2   \n",
      "23             0.235355      88.22019   153.630779        0       0        2   \n",
      "24             0.227867     103.13384    54.919655        0       0        2   \n",
      "33             0.204644     104.07394   725.598890        0       0        2   \n",
      "42             0.102771      95.97915   293.042210        0       0        2   \n",
      "52             0.177733     117.55208   551.051245        0       0        2   \n",
      "53             0.111696      84.56785   457.285981        0       0        2   \n",
      "64             0.131494     103.87831   545.899307        0       0        2   \n",
      "77             0.147774     124.54608   336.730641        0       0        2   \n",
      "92             0.140617     130.04544   209.889937        0       0        2   \n",
      "117            0.167526      97.93515  1155.785679        1       0        2   \n",
      "118            0.264581     110.37653   354.247229        0       0        2   \n",
      "120            0.126919      85.40061   569.598220        1       0        2   \n",
      "125            0.119520     106.82248   282.223141        0       0        2   \n",
      "130            0.126405     111.46121   329.311851        0       0        2   \n",
      "132            0.082813     108.23513   452.855314        0       0        2   \n",
      "134            0.139434     103.27310   220.399890        0       0        2   \n",
      "165            0.163384     118.36336   361.872096        0       0        2   \n",
      "173            0.105708     113.48541   346.725400        0       0        2   \n",
      "179            0.122855     118.96988   251.208477        0       0        2   \n",
      "204            0.144072     104.21387   641.725346        0       0        2   \n",
      "\n",
      "     has_ikea  \n",
      "1           2  \n",
      "2           2  \n",
      "7           2  \n",
      "9           2  \n",
      "16          2  \n",
      "17          2  \n",
      "18          2  \n",
      "20          2  \n",
      "21          2  \n",
      "23          2  \n",
      "24          2  \n",
      "33          2  \n",
      "42          2  \n",
      "52          2  \n",
      "53          2  \n",
      "64          2  \n",
      "77          2  \n",
      "92          2  \n",
      "117         2  \n",
      "118         2  \n",
      "120         2  \n",
      "125         2  \n",
      "130         2  \n",
      "132         2  \n",
      "134         2  \n",
      "165         2  \n",
      "173         2  \n",
      "179         2  \n",
      "204         2  \n"
     ]
    },
    {
     "data": {
      "text/plain": [
       "298963"
      ]
     },
     "execution_count": 43,
     "metadata": {},
     "output_type": "execute_result"
    }
   ],
   "source": [
    "print(cluster3)\n",
    "cluster3[\"Population\"].max()"
   ]
  },
  {
   "cell_type": "code",
   "execution_count": 44,
   "id": "c88a0b79",
   "metadata": {},
   "outputs": [
    {
     "data": {
      "text/html": [
       "<div>\n",
       "<style scoped>\n",
       "    .dataframe tbody tr th:only-of-type {\n",
       "        vertical-align: middle;\n",
       "    }\n",
       "\n",
       "    .dataframe tbody tr th {\n",
       "        vertical-align: top;\n",
       "    }\n",
       "\n",
       "    .dataframe thead th {\n",
       "        text-align: right;\n",
       "    }\n",
       "</style>\n",
       "<table border=\"1\" class=\"dataframe\">\n",
       "  <thead>\n",
       "    <tr style=\"text-align: right;\">\n",
       "      <th></th>\n",
       "      <th>Kommun_name</th>\n",
       "      <th>Revenue</th>\n",
       "      <th>Employee</th>\n",
       "      <th>Population</th>\n",
       "      <th>Population_University</th>\n",
       "      <th>Percent_University</th>\n",
       "      <th>Productivity</th>\n",
       "      <th>SalesIndex</th>\n",
       "      <th>Infrast</th>\n",
       "      <th>Border</th>\n",
       "      <th>cluster</th>\n",
       "      <th>has_ikea</th>\n",
       "    </tr>\n",
       "  </thead>\n",
       "  <tbody>\n",
       "    <tr>\n",
       "      <th>117</th>\n",
       "      <td>Malmö</td>\n",
       "      <td>11217</td>\n",
       "      <td>5740</td>\n",
       "      <td>298963</td>\n",
       "      <td>50084</td>\n",
       "      <td>0.167526</td>\n",
       "      <td>97.93515</td>\n",
       "      <td>1155.785679</td>\n",
       "      <td>1</td>\n",
       "      <td>0</td>\n",
       "      <td>2</td>\n",
       "      <td>2</td>\n",
       "    </tr>\n",
       "  </tbody>\n",
       "</table>\n",
       "</div>"
      ],
      "text/plain": [
       "    Kommun_name  Revenue  Employee  Population  Population_University  \\\n",
       "117       Malmö    11217      5740      298963                  50084   \n",
       "\n",
       "     Percent_University  Productivity   SalesIndex  Infrast  Border  cluster  \\\n",
       "117            0.167526      97.93515  1155.785679        1       0        2   \n",
       "\n",
       "     has_ikea  \n",
       "117         2  "
      ]
     },
     "execution_count": 44,
     "metadata": {},
     "output_type": "execute_result"
    }
   ],
   "source": [
    "cluster3.loc[cluster3[\"Population\"]==298963]"
   ]
  },
  {
   "cell_type": "code",
   "execution_count": 45,
   "id": "5031ef29",
   "metadata": {},
   "outputs": [
    {
     "data": {
      "text/plain": [
       "nan"
      ]
     },
     "execution_count": 45,
     "metadata": {},
     "output_type": "execute_result"
    }
   ],
   "source": [
    "cluster3.loc[(cluster3[\"Revenue\"] == 0)  ,\"SalesIndex\"].max()"
   ]
  },
  {
   "cell_type": "code",
   "execution_count": 46,
   "id": "58b82e4e",
   "metadata": {},
   "outputs": [
    {
     "data": {
      "text/html": [
       "<div>\n",
       "<style scoped>\n",
       "    .dataframe tbody tr th:only-of-type {\n",
       "        vertical-align: middle;\n",
       "    }\n",
       "\n",
       "    .dataframe tbody tr th {\n",
       "        vertical-align: top;\n",
       "    }\n",
       "\n",
       "    .dataframe thead th {\n",
       "        text-align: right;\n",
       "    }\n",
       "</style>\n",
       "<table border=\"1\" class=\"dataframe\">\n",
       "  <thead>\n",
       "    <tr style=\"text-align: right;\">\n",
       "      <th></th>\n",
       "      <th>Kommun_name</th>\n",
       "      <th>Revenue</th>\n",
       "      <th>Employee</th>\n",
       "      <th>Population</th>\n",
       "      <th>Population_University</th>\n",
       "      <th>Percent_University</th>\n",
       "      <th>Productivity</th>\n",
       "      <th>SalesIndex</th>\n",
       "      <th>Infrast</th>\n",
       "      <th>Border</th>\n",
       "      <th>cluster</th>\n",
       "      <th>has_ikea</th>\n",
       "    </tr>\n",
       "  </thead>\n",
       "  <tbody>\n",
       "    <tr>\n",
       "      <th>173</th>\n",
       "      <td>Borås</td>\n",
       "      <td>3365</td>\n",
       "      <td>1486</td>\n",
       "      <td>103294</td>\n",
       "      <td>10919</td>\n",
       "      <td>0.105708</td>\n",
       "      <td>113.48541</td>\n",
       "      <td>346.7254</td>\n",
       "      <td>0</td>\n",
       "      <td>0</td>\n",
       "      <td>2</td>\n",
       "      <td>2</td>\n",
       "    </tr>\n",
       "  </tbody>\n",
       "</table>\n",
       "</div>"
      ],
      "text/plain": [
       "    Kommun_name  Revenue  Employee  Population  Population_University  \\\n",
       "173       Borås     3365      1486      103294                  10919   \n",
       "\n",
       "     Percent_University  Productivity  SalesIndex  Infrast  Border  cluster  \\\n",
       "173            0.105708     113.48541    346.7254        0       0        2   \n",
       "\n",
       "     has_ikea  \n",
       "173         2  "
      ]
     },
     "execution_count": 46,
     "metadata": {},
     "output_type": "execute_result"
    }
   ],
   "source": [
    "cluster3.loc[cluster3[\"SalesIndex\"]==346.7254]"
   ]
  }
 ],
 "metadata": {
  "kernelspec": {
   "display_name": "Python 3 (ipykernel)",
   "language": "python",
   "name": "python3"
  },
  "language_info": {
   "codemirror_mode": {
    "name": "ipython",
    "version": 3
   },
   "file_extension": ".py",
   "mimetype": "text/x-python",
   "name": "python",
   "nbconvert_exporter": "python",
   "pygments_lexer": "ipython3",
   "version": "3.9.7"
  }
 },
 "nbformat": 4,
 "nbformat_minor": 5
}
